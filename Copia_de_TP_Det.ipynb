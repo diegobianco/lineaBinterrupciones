{
  "nbformat": 4,
  "nbformat_minor": 0,
  "metadata": {
    "colab": {
      "name": "Copia de TP_Det.ipynb",
      "provenance": [],
      "collapsed_sections": [],
      "authorship_tag": "ABX9TyOG7wvPgOfzMRBxPXOdOt4l",
      "include_colab_link": true
    },
    "kernelspec": {
      "name": "python3",
      "display_name": "Python 3"
    }
  },
  "cells": [
    {
      "cell_type": "markdown",
      "metadata": {
        "id": "view-in-github",
        "colab_type": "text"
      },
      "source": [
        "<a href=\"https://colab.research.google.com/github/diegobianco/lineaBinterrupciones/blob/datosubte/Copia_de_TP_Det.ipynb\" target=\"_parent\"><img src=\"https://colab.research.google.com/assets/colab-badge.svg\" alt=\"Open In Colab\"/></a>"
      ]
    },
    {
      "cell_type": "code",
      "metadata": {
        "colab": {
          "base_uri": "https://localhost:8080/"
        },
        "id": "z_IEiST7DwfZ",
        "outputId": "4f0b394d-bf77-4498-a3d1-9cdf6c2af4e8"
      },
      "source": [
        "!pip install geopandas"
      ],
      "execution_count": null,
      "outputs": [
        {
          "output_type": "stream",
          "text": [
            "Requirement already satisfied: geopandas in /usr/local/lib/python3.6/dist-packages (0.8.1)\n",
            "Requirement already satisfied: pyproj>=2.2.0 in /usr/local/lib/python3.6/dist-packages (from geopandas) (3.0.0.post1)\n",
            "Requirement already satisfied: shapely in /usr/local/lib/python3.6/dist-packages (from geopandas) (1.7.1)\n",
            "Requirement already satisfied: fiona in /usr/local/lib/python3.6/dist-packages (from geopandas) (1.8.18)\n",
            "Requirement already satisfied: pandas>=0.23.0 in /usr/local/lib/python3.6/dist-packages (from geopandas) (1.1.4)\n",
            "Requirement already satisfied: certifi in /usr/local/lib/python3.6/dist-packages (from pyproj>=2.2.0->geopandas) (2020.11.8)\n",
            "Requirement already satisfied: six>=1.7 in /usr/local/lib/python3.6/dist-packages (from fiona->geopandas) (1.15.0)\n",
            "Requirement already satisfied: munch in /usr/local/lib/python3.6/dist-packages (from fiona->geopandas) (2.5.0)\n",
            "Requirement already satisfied: attrs>=17 in /usr/local/lib/python3.6/dist-packages (from fiona->geopandas) (20.3.0)\n",
            "Requirement already satisfied: cligj>=0.5 in /usr/local/lib/python3.6/dist-packages (from fiona->geopandas) (0.7.1)\n",
            "Requirement already satisfied: click-plugins>=1.0 in /usr/local/lib/python3.6/dist-packages (from fiona->geopandas) (1.1.1)\n",
            "Requirement already satisfied: click<8,>=4.0 in /usr/local/lib/python3.6/dist-packages (from fiona->geopandas) (7.1.2)\n",
            "Requirement already satisfied: numpy>=1.15.4 in /usr/local/lib/python3.6/dist-packages (from pandas>=0.23.0->geopandas) (1.18.5)\n",
            "Requirement already satisfied: python-dateutil>=2.7.3 in /usr/local/lib/python3.6/dist-packages (from pandas>=0.23.0->geopandas) (2.8.1)\n",
            "Requirement already satisfied: pytz>=2017.2 in /usr/local/lib/python3.6/dist-packages (from pandas>=0.23.0->geopandas) (2018.9)\n"
          ],
          "name": "stdout"
        }
      ]
    },
    {
      "cell_type": "code",
      "metadata": {
        "id": "TtcM1famDzwX"
      },
      "source": [
        "import pandas as pd\n",
        "import geopandas as gpd\n",
        "import seaborn as sns\n",
        "import matplotlib.pyplot as plt\n",
        "import numpy as np"
      ],
      "execution_count": null,
      "outputs": []
    },
    {
      "cell_type": "code",
      "metadata": {
        "colab": {
          "base_uri": "https://localhost:8080/"
        },
        "id": "bi7Rz8gODzuY",
        "outputId": "649ddd63-a116-46a1-863c-9e3d8b2bfea5"
      },
      "source": [
        "!git clone https://github.com/diegobianco/lineaBinterrupciones.git"
      ],
      "execution_count": null,
      "outputs": [
        {
          "output_type": "stream",
          "text": [
            "fatal: destination path 'lineaBinterrupciones' already exists and is not an empty directory.\n"
          ],
          "name": "stdout"
        }
      ]
    },
    {
      "cell_type": "code",
      "metadata": {
        "colab": {
          "base_uri": "https://localhost:8080/"
        },
        "id": "Q2JyhLDnDzrh",
        "outputId": "b67df9a6-a4da-4326-d071-81115414b5a3"
      },
      "source": [
        "!ls lineaBinterrupciones"
      ],
      "execution_count": null,
      "outputs": [
        {
          "output_type": "stream",
          "text": [
            "B_2019.csv  LICENSE  README.md\tReporte_de_incidencias.csv\n"
          ],
          "name": "stdout"
        }
      ]
    },
    {
      "cell_type": "code",
      "metadata": {
        "id": "H-ZwXT5TFnbo"
      },
      "source": [
        "import csv"
      ],
      "execution_count": null,
      "outputs": []
    },
    {
      "cell_type": "code",
      "metadata": {
        "id": "WQ7Q-xLSDzoy"
      },
      "source": [
        "incidentes = pd.read_csv('lineaBinterrupciones/B_2019.csv')"
      ],
      "execution_count": null,
      "outputs": []
    },
    {
      "cell_type": "markdown",
      "metadata": {
        "id": "IHfCIufQJw7L"
      },
      "source": [
        "Reviso que la tabla sea la correcta viendo las primeras entradas"
      ]
    },
    {
      "cell_type": "code",
      "metadata": {
        "colab": {
          "base_uri": "https://localhost:8080/",
          "height": 204
        },
        "id": "8JofxzySGFao",
        "outputId": "a756999f-f014-4be9-e22b-aaaa0237c0c1"
      },
      "source": [
        "incidentes.head()"
      ],
      "execution_count": null,
      "outputs": [
        {
          "output_type": "execute_result",
          "data": {
            "text/html": [
              "<div>\n",
              "<style scoped>\n",
              "    .dataframe tbody tr th:only-of-type {\n",
              "        vertical-align: middle;\n",
              "    }\n",
              "\n",
              "    .dataframe tbody tr th {\n",
              "        vertical-align: top;\n",
              "    }\n",
              "\n",
              "    .dataframe thead th {\n",
              "        text-align: right;\n",
              "    }\n",
              "</style>\n",
              "<table border=\"1\" class=\"dataframe\">\n",
              "  <thead>\n",
              "    <tr style=\"text-align: right;\">\n",
              "      <th></th>\n",
              "      <th>FECHAyHORA</th>\n",
              "      <th>FECHA</th>\n",
              "      <th>HORA</th>\n",
              "      <th>LINEA</th>\n",
              "      <th>MOTIVO</th>\n",
              "      <th>DURACION_(MINUTOS)</th>\n",
              "    </tr>\n",
              "  </thead>\n",
              "  <tbody>\n",
              "    <tr>\n",
              "      <th>0</th>\n",
              "      <td>31/12/2019 20:12</td>\n",
              "      <td>31/12/2019</td>\n",
              "      <td>20:12:05</td>\n",
              "      <td>B</td>\n",
              "      <td>Servicio con demora debido a una causa tEcnica.</td>\n",
              "      <td>5</td>\n",
              "    </tr>\n",
              "    <tr>\n",
              "      <th>1</th>\n",
              "      <td>27/12/2019 21:32</td>\n",
              "      <td>27/12/2019</td>\n",
              "      <td>21:32:08</td>\n",
              "      <td>B</td>\n",
              "      <td>Servicio con demora</td>\n",
              "      <td>5</td>\n",
              "    </tr>\n",
              "    <tr>\n",
              "      <th>2</th>\n",
              "      <td>27/12/2019 21:14</td>\n",
              "      <td>27/12/2019</td>\n",
              "      <td>21:14:08</td>\n",
              "      <td>B</td>\n",
              "      <td>Servicio limitado entre las estaciones Leandro...</td>\n",
              "      <td>13</td>\n",
              "    </tr>\n",
              "    <tr>\n",
              "      <th>3</th>\n",
              "      <td>27/12/2019 00:42</td>\n",
              "      <td>27/12/2019</td>\n",
              "      <td>00:42:08</td>\n",
              "      <td>B</td>\n",
              "      <td>Servicio con demora debido a una causa tEcnica.</td>\n",
              "      <td>53</td>\n",
              "    </tr>\n",
              "    <tr>\n",
              "      <th>4</th>\n",
              "      <td>23/12/2019 22:30</td>\n",
              "      <td>23/12/2019</td>\n",
              "      <td>22:30:14</td>\n",
              "      <td>B</td>\n",
              "      <td>Servicio con demora por una formacion detenida...</td>\n",
              "      <td>27</td>\n",
              "    </tr>\n",
              "  </tbody>\n",
              "</table>\n",
              "</div>"
            ],
            "text/plain": [
              "         FECHAyHORA  ... DURACION_(MINUTOS)\n",
              "0  31/12/2019 20:12  ...                  5\n",
              "1  27/12/2019 21:32  ...                  5\n",
              "2  27/12/2019 21:14  ...                 13\n",
              "3  27/12/2019 00:42  ...                 53\n",
              "4  23/12/2019 22:30  ...                 27\n",
              "\n",
              "[5 rows x 6 columns]"
            ]
          },
          "metadata": {
            "tags": []
          },
          "execution_count": 8
        }
      ]
    },
    {
      "cell_type": "markdown",
      "metadata": {
        "id": "ct20stDcGLdJ"
      },
      "source": [
        "Verifico la lista de nombre de columnas y que no tenga objetos null"
      ]
    },
    {
      "cell_type": "code",
      "metadata": {
        "colab": {
          "base_uri": "https://localhost:8080/"
        },
        "id": "icXntIe3GMFA",
        "outputId": "8a2944fc-f59b-4ded-83b4-5eb57a634796"
      },
      "source": [
        "incidentes.info()"
      ],
      "execution_count": null,
      "outputs": [
        {
          "output_type": "stream",
          "text": [
            "<class 'pandas.core.frame.DataFrame'>\n",
            "RangeIndex: 275 entries, 0 to 274\n",
            "Data columns (total 6 columns):\n",
            " #   Column              Non-Null Count  Dtype \n",
            "---  ------              --------------  ----- \n",
            " 0   FECHAyHORA          275 non-null    object\n",
            " 1   FECHA               275 non-null    object\n",
            " 2   HORA                275 non-null    object\n",
            " 3   LINEA               275 non-null    object\n",
            " 4   MOTIVO              275 non-null    object\n",
            " 5   DURACION_(MINUTOS)  275 non-null    int64 \n",
            "dtypes: int64(1), object(5)\n",
            "memory usage: 13.0+ KB\n"
          ],
          "name": "stdout"
        }
      ]
    },
    {
      "cell_type": "markdown",
      "metadata": {
        "id": "Wi9rMOU2KD56"
      },
      "source": [
        "Me deshago de la columna Fecha y hora, que no la voy a usar"
      ]
    },
    {
      "cell_type": "code",
      "metadata": {
        "id": "Nb0BOLwAGrPY"
      },
      "source": [
        "incidentes.drop(columns='FECHAyHORA', inplace=True)"
      ],
      "execution_count": null,
      "outputs": []
    },
    {
      "cell_type": "markdown",
      "metadata": {
        "id": "dNokxogKKJYs"
      },
      "source": [
        "Vuelvo a revisar las columnas"
      ]
    },
    {
      "cell_type": "code",
      "metadata": {
        "colab": {
          "base_uri": "https://localhost:8080/"
        },
        "id": "ulEeGuhiKMYY",
        "outputId": "59ded0d5-9d71-4b14-f7d8-6dab461ebb37"
      },
      "source": [
        "incidentes.info()"
      ],
      "execution_count": null,
      "outputs": [
        {
          "output_type": "stream",
          "text": [
            "<class 'pandas.core.frame.DataFrame'>\n",
            "RangeIndex: 275 entries, 0 to 274\n",
            "Data columns (total 5 columns):\n",
            " #   Column              Non-Null Count  Dtype \n",
            "---  ------              --------------  ----- \n",
            " 0   FECHA               275 non-null    object\n",
            " 1   HORA                275 non-null    object\n",
            " 2   LINEA               275 non-null    object\n",
            " 3   MOTIVO              275 non-null    object\n",
            " 4   DURACION_(MINUTOS)  275 non-null    int64 \n",
            "dtypes: int64(1), object(4)\n",
            "memory usage: 10.9+ KB\n"
          ],
          "name": "stdout"
        }
      ]
    },
    {
      "cell_type": "markdown",
      "metadata": {
        "id": "qpylc146NtBc"
      },
      "source": [
        "Buscamos la información en la columna HORA"
      ]
    },
    {
      "cell_type": "code",
      "metadata": {
        "colab": {
          "base_uri": "https://localhost:8080/"
        },
        "id": "fzewl3l5NsnY",
        "outputId": "0c038e0c-25cf-4542-8c39-3631be940cec"
      },
      "source": [
        "incidentes.HORA"
      ],
      "execution_count": null,
      "outputs": [
        {
          "output_type": "execute_result",
          "data": {
            "text/plain": [
              "0      20:12:05\n",
              "1      21:32:08\n",
              "2      21:14:08\n",
              "3      00:42:08\n",
              "4      22:30:14\n",
              "         ...   \n",
              "270    15:56:02\n",
              "271    20:20:02\n",
              "272    21:32:02\n",
              "273    21:38:11\n",
              "274    13:48:03\n",
              "Name: HORA, Length: 275, dtype: object"
            ]
          },
          "metadata": {
            "tags": []
          },
          "execution_count": 12
        }
      ]
    },
    {
      "cell_type": "markdown",
      "metadata": {
        "id": "XonXfuR2N3fb"
      },
      "source": [
        "Como solo queremos la hora estadísticamente y no los minutos y segundos, filtramos los datos."
      ]
    },
    {
      "cell_type": "code",
      "metadata": {
        "id": "fMYDPraPKPak"
      },
      "source": [
        "horaincidente = [i[0:2] for i in incidentes.HORA] "
      ],
      "execution_count": null,
      "outputs": []
    },
    {
      "cell_type": "markdown",
      "metadata": {
        "id": "Xt5BL4QhQ6BX"
      },
      "source": [
        "Creo la columna hora_incidente"
      ]
    },
    {
      "cell_type": "code",
      "metadata": {
        "id": "5uNRWldQQxaX"
      },
      "source": [
        "incidentes['hora_incidente'] = horaincidente"
      ],
      "execution_count": null,
      "outputs": []
    },
    {
      "cell_type": "markdown",
      "metadata": {
        "id": "juS4IaTw7uvU"
      },
      "source": [
        "Transformo la columna en integer"
      ]
    },
    {
      "cell_type": "code",
      "metadata": {
        "colab": {
          "base_uri": "https://localhost:8080/"
        },
        "id": "FjevVIzlzvY7",
        "outputId": "f2f6b58e-b221-4c5d-a6c8-93150dcb6bc5"
      },
      "source": [
        "incidentes[\"hora_incidente\"] = incidentes['hora_incidente'].astype('int')\n",
        "incidentes.dtypes"
      ],
      "execution_count": null,
      "outputs": [
        {
          "output_type": "execute_result",
          "data": {
            "text/plain": [
              "FECHA                 object\n",
              "HORA                  object\n",
              "LINEA                 object\n",
              "MOTIVO                object\n",
              "DURACION_(MINUTOS)     int64\n",
              "hora_incidente         int64\n",
              "dtype: object"
            ]
          },
          "metadata": {
            "tags": []
          },
          "execution_count": 18
        }
      ]
    },
    {
      "cell_type": "markdown",
      "metadata": {
        "id": "W8w6cxtaRoH1"
      },
      "source": [
        "Me deshago de la columna HORA, que no la voy a utilizar"
      ]
    },
    {
      "cell_type": "code",
      "metadata": {
        "id": "rbmlw46OSdqs"
      },
      "source": [
        "incidentes.drop(columns='HORA', inplace=True)"
      ],
      "execution_count": null,
      "outputs": []
    },
    {
      "cell_type": "markdown",
      "metadata": {
        "id": "PzPgbchlS2_g"
      },
      "source": [
        "Renombro la columna DURACION"
      ]
    },
    {
      "cell_type": "code",
      "metadata": {
        "id": "oIEhsFPUS2PG"
      },
      "source": [
        "incidentes.rename(columns = {'DURACION_(MINUTOS)': 'DURACION'}, inplace=True)"
      ],
      "execution_count": null,
      "outputs": []
    },
    {
      "cell_type": "markdown",
      "metadata": {
        "id": "4lJr6evDaLF2"
      },
      "source": [
        "Listo para verificar los cambios"
      ]
    },
    {
      "cell_type": "code",
      "metadata": {
        "colab": {
          "base_uri": "https://localhost:8080/",
          "height": 419
        },
        "id": "Wvxya2vgSvmd",
        "outputId": "46cef7c5-bde1-40ed-a527-c15c675d2529"
      },
      "source": [
        "incidentes"
      ],
      "execution_count": null,
      "outputs": [
        {
          "output_type": "execute_result",
          "data": {
            "text/html": [
              "<div>\n",
              "<style scoped>\n",
              "    .dataframe tbody tr th:only-of-type {\n",
              "        vertical-align: middle;\n",
              "    }\n",
              "\n",
              "    .dataframe tbody tr th {\n",
              "        vertical-align: top;\n",
              "    }\n",
              "\n",
              "    .dataframe thead th {\n",
              "        text-align: right;\n",
              "    }\n",
              "</style>\n",
              "<table border=\"1\" class=\"dataframe\">\n",
              "  <thead>\n",
              "    <tr style=\"text-align: right;\">\n",
              "      <th></th>\n",
              "      <th>FECHA</th>\n",
              "      <th>LINEA</th>\n",
              "      <th>MOTIVO</th>\n",
              "      <th>DURACION</th>\n",
              "      <th>hora_incidente</th>\n",
              "    </tr>\n",
              "  </thead>\n",
              "  <tbody>\n",
              "    <tr>\n",
              "      <th>0</th>\n",
              "      <td>31/12/2019</td>\n",
              "      <td>B</td>\n",
              "      <td>Servicio con demora debido a una causa tEcnica.</td>\n",
              "      <td>5</td>\n",
              "      <td>20</td>\n",
              "    </tr>\n",
              "    <tr>\n",
              "      <th>1</th>\n",
              "      <td>27/12/2019</td>\n",
              "      <td>B</td>\n",
              "      <td>Servicio con demora</td>\n",
              "      <td>5</td>\n",
              "      <td>21</td>\n",
              "    </tr>\n",
              "    <tr>\n",
              "      <th>2</th>\n",
              "      <td>27/12/2019</td>\n",
              "      <td>B</td>\n",
              "      <td>Servicio limitado entre las estaciones Leandro...</td>\n",
              "      <td>13</td>\n",
              "      <td>21</td>\n",
              "    </tr>\n",
              "    <tr>\n",
              "      <th>3</th>\n",
              "      <td>27/12/2019</td>\n",
              "      <td>B</td>\n",
              "      <td>Servicio con demora debido a una causa tEcnica.</td>\n",
              "      <td>53</td>\n",
              "      <td>0</td>\n",
              "    </tr>\n",
              "    <tr>\n",
              "      <th>4</th>\n",
              "      <td>23/12/2019</td>\n",
              "      <td>B</td>\n",
              "      <td>Servicio con demora por una formacion detenida...</td>\n",
              "      <td>27</td>\n",
              "      <td>22</td>\n",
              "    </tr>\n",
              "    <tr>\n",
              "      <th>...</th>\n",
              "      <td>...</td>\n",
              "      <td>...</td>\n",
              "      <td>...</td>\n",
              "      <td>...</td>\n",
              "      <td>...</td>\n",
              "    </tr>\n",
              "    <tr>\n",
              "      <th>270</th>\n",
              "      <td>12/01/2019</td>\n",
              "      <td>B</td>\n",
              "      <td>Servicio limitado entre L. N. Alem y Federico ...</td>\n",
              "      <td>40</td>\n",
              "      <td>15</td>\n",
              "    </tr>\n",
              "    <tr>\n",
              "      <th>271</th>\n",
              "      <td>09/01/2019</td>\n",
              "      <td>B</td>\n",
              "      <td>Servicio con demora debido a un problema t�cni...</td>\n",
              "      <td>4</td>\n",
              "      <td>20</td>\n",
              "    </tr>\n",
              "    <tr>\n",
              "      <th>272</th>\n",
              "      <td>08/01/2019</td>\n",
              "      <td>B</td>\n",
              "      <td>Servicio con demora debido a un problema t�cni...</td>\n",
              "      <td>24</td>\n",
              "      <td>21</td>\n",
              "    </tr>\n",
              "    <tr>\n",
              "      <th>273</th>\n",
              "      <td>04/01/2019</td>\n",
              "      <td>B</td>\n",
              "      <td>Servicio con demora debido a un problema t�cni...</td>\n",
              "      <td>19</td>\n",
              "      <td>21</td>\n",
              "    </tr>\n",
              "    <tr>\n",
              "      <th>274</th>\n",
              "      <td>02/01/2019</td>\n",
              "      <td>B</td>\n",
              "      <td>Servicio con demora debido a un problema t�cni...</td>\n",
              "      <td>20</td>\n",
              "      <td>13</td>\n",
              "    </tr>\n",
              "  </tbody>\n",
              "</table>\n",
              "<p>275 rows × 5 columns</p>\n",
              "</div>"
            ],
            "text/plain": [
              "          FECHA LINEA  ... DURACION  hora_incidente\n",
              "0    31/12/2019     B  ...        5              20\n",
              "1    27/12/2019     B  ...        5              21\n",
              "2    27/12/2019     B  ...       13              21\n",
              "3    27/12/2019     B  ...       53               0\n",
              "4    23/12/2019     B  ...       27              22\n",
              "..          ...   ...  ...      ...             ...\n",
              "270  12/01/2019     B  ...       40              15\n",
              "271  09/01/2019     B  ...        4              20\n",
              "272  08/01/2019     B  ...       24              21\n",
              "273  04/01/2019     B  ...       19              21\n",
              "274  02/01/2019     B  ...       20              13\n",
              "\n",
              "[275 rows x 5 columns]"
            ]
          },
          "metadata": {
            "tags": []
          },
          "execution_count": 21
        }
      ]
    },
    {
      "cell_type": "markdown",
      "metadata": {
        "id": "r7FxlfK47-0k"
      },
      "source": [
        "Contemplando errores saco cualquier fila que tenga valor 0 en DURACION"
      ]
    },
    {
      "cell_type": "code",
      "metadata": {
        "id": "yg1BUMAh41tC"
      },
      "source": [
        "incidentes = incidentes[(incidentes['DURACION'] > 0)]"
      ],
      "execution_count": null,
      "outputs": []
    },
    {
      "cell_type": "markdown",
      "metadata": {
        "id": "jDyuJDkcaegk"
      },
      "source": [
        "Utilizo el dato conocido del tiempo de operación para obtener el porcentaje de interrupción (redondeado hasta 2 decimales)"
      ]
    },
    {
      "cell_type": "code",
      "metadata": {
        "id": "USDXxoDyarhy"
      },
      "source": [
        "porcinter = [round(900/(i*100),2) for i in incidentes.DURACION] "
      ],
      "execution_count": null,
      "outputs": []
    },
    {
      "cell_type": "markdown",
      "metadata": {
        "id": "rVYYdFzw74Bh"
      },
      "source": [
        "Creo la columna para asignarle el valor"
      ]
    },
    {
      "cell_type": "code",
      "metadata": {
        "colab": {
          "base_uri": "https://localhost:8080/"
        },
        "id": "naQWNMuD5jlE",
        "outputId": "f449b9e2-2883-4db6-bb59-ce8e985a852c"
      },
      "source": [
        "incidentes['porcentaje_diario'] = porcinter"
      ],
      "execution_count": null,
      "outputs": [
        {
          "output_type": "stream",
          "text": [
            "/usr/local/lib/python3.6/dist-packages/ipykernel_launcher.py:1: SettingWithCopyWarning: \n",
            "A value is trying to be set on a copy of a slice from a DataFrame.\n",
            "Try using .loc[row_indexer,col_indexer] = value instead\n",
            "\n",
            "See the caveats in the documentation: https://pandas.pydata.org/pandas-docs/stable/user_guide/indexing.html#returning-a-view-versus-a-copy\n",
            "  \"\"\"Entry point for launching an IPython kernel.\n"
          ],
          "name": "stderr"
        }
      ]
    },
    {
      "cell_type": "markdown",
      "metadata": {
        "id": "jNXsEHnf78Gm"
      },
      "source": [
        "Verifico los datos"
      ]
    },
    {
      "cell_type": "code",
      "metadata": {
        "colab": {
          "base_uri": "https://localhost:8080/",
          "height": 419
        },
        "id": "vq-F26LRxqYO",
        "outputId": "5a0a3eec-7e17-4e36-ae11-1e51e48a12fe"
      },
      "source": [
        "incidentes"
      ],
      "execution_count": null,
      "outputs": [
        {
          "output_type": "execute_result",
          "data": {
            "text/html": [
              "<div>\n",
              "<style scoped>\n",
              "    .dataframe tbody tr th:only-of-type {\n",
              "        vertical-align: middle;\n",
              "    }\n",
              "\n",
              "    .dataframe tbody tr th {\n",
              "        vertical-align: top;\n",
              "    }\n",
              "\n",
              "    .dataframe thead th {\n",
              "        text-align: right;\n",
              "    }\n",
              "</style>\n",
              "<table border=\"1\" class=\"dataframe\">\n",
              "  <thead>\n",
              "    <tr style=\"text-align: right;\">\n",
              "      <th></th>\n",
              "      <th>FECHA</th>\n",
              "      <th>LINEA</th>\n",
              "      <th>MOTIVO</th>\n",
              "      <th>DURACION</th>\n",
              "      <th>hora_incidente</th>\n",
              "      <th>porcentaje_diario</th>\n",
              "    </tr>\n",
              "  </thead>\n",
              "  <tbody>\n",
              "    <tr>\n",
              "      <th>0</th>\n",
              "      <td>31/12/2019</td>\n",
              "      <td>B</td>\n",
              "      <td>Servicio con demora debido a una causa tEcnica.</td>\n",
              "      <td>5</td>\n",
              "      <td>20</td>\n",
              "      <td>1.80</td>\n",
              "    </tr>\n",
              "    <tr>\n",
              "      <th>1</th>\n",
              "      <td>27/12/2019</td>\n",
              "      <td>B</td>\n",
              "      <td>Servicio con demora</td>\n",
              "      <td>5</td>\n",
              "      <td>21</td>\n",
              "      <td>1.80</td>\n",
              "    </tr>\n",
              "    <tr>\n",
              "      <th>2</th>\n",
              "      <td>27/12/2019</td>\n",
              "      <td>B</td>\n",
              "      <td>Servicio limitado entre las estaciones Leandro...</td>\n",
              "      <td>13</td>\n",
              "      <td>21</td>\n",
              "      <td>0.69</td>\n",
              "    </tr>\n",
              "    <tr>\n",
              "      <th>3</th>\n",
              "      <td>27/12/2019</td>\n",
              "      <td>B</td>\n",
              "      <td>Servicio con demora debido a una causa tEcnica.</td>\n",
              "      <td>53</td>\n",
              "      <td>0</td>\n",
              "      <td>0.17</td>\n",
              "    </tr>\n",
              "    <tr>\n",
              "      <th>4</th>\n",
              "      <td>23/12/2019</td>\n",
              "      <td>B</td>\n",
              "      <td>Servicio con demora por una formacion detenida...</td>\n",
              "      <td>27</td>\n",
              "      <td>22</td>\n",
              "      <td>0.33</td>\n",
              "    </tr>\n",
              "    <tr>\n",
              "      <th>...</th>\n",
              "      <td>...</td>\n",
              "      <td>...</td>\n",
              "      <td>...</td>\n",
              "      <td>...</td>\n",
              "      <td>...</td>\n",
              "      <td>...</td>\n",
              "    </tr>\n",
              "    <tr>\n",
              "      <th>270</th>\n",
              "      <td>12/01/2019</td>\n",
              "      <td>B</td>\n",
              "      <td>Servicio limitado entre L. N. Alem y Federico ...</td>\n",
              "      <td>40</td>\n",
              "      <td>15</td>\n",
              "      <td>0.23</td>\n",
              "    </tr>\n",
              "    <tr>\n",
              "      <th>271</th>\n",
              "      <td>09/01/2019</td>\n",
              "      <td>B</td>\n",
              "      <td>Servicio con demora debido a un problema t�cni...</td>\n",
              "      <td>4</td>\n",
              "      <td>20</td>\n",
              "      <td>2.25</td>\n",
              "    </tr>\n",
              "    <tr>\n",
              "      <th>272</th>\n",
              "      <td>08/01/2019</td>\n",
              "      <td>B</td>\n",
              "      <td>Servicio con demora debido a un problema t�cni...</td>\n",
              "      <td>24</td>\n",
              "      <td>21</td>\n",
              "      <td>0.38</td>\n",
              "    </tr>\n",
              "    <tr>\n",
              "      <th>273</th>\n",
              "      <td>04/01/2019</td>\n",
              "      <td>B</td>\n",
              "      <td>Servicio con demora debido a un problema t�cni...</td>\n",
              "      <td>19</td>\n",
              "      <td>21</td>\n",
              "      <td>0.47</td>\n",
              "    </tr>\n",
              "    <tr>\n",
              "      <th>274</th>\n",
              "      <td>02/01/2019</td>\n",
              "      <td>B</td>\n",
              "      <td>Servicio con demora debido a un problema t�cni...</td>\n",
              "      <td>20</td>\n",
              "      <td>13</td>\n",
              "      <td>0.45</td>\n",
              "    </tr>\n",
              "  </tbody>\n",
              "</table>\n",
              "<p>259 rows × 6 columns</p>\n",
              "</div>"
            ],
            "text/plain": [
              "          FECHA LINEA  ... hora_incidente  porcentaje_diario\n",
              "0    31/12/2019     B  ...             20               1.80\n",
              "1    27/12/2019     B  ...             21               1.80\n",
              "2    27/12/2019     B  ...             21               0.69\n",
              "3    27/12/2019     B  ...              0               0.17\n",
              "4    23/12/2019     B  ...             22               0.33\n",
              "..          ...   ...  ...            ...                ...\n",
              "270  12/01/2019     B  ...             15               0.23\n",
              "271  09/01/2019     B  ...             20               2.25\n",
              "272  08/01/2019     B  ...             21               0.38\n",
              "273  04/01/2019     B  ...             21               0.47\n",
              "274  02/01/2019     B  ...             13               0.45\n",
              "\n",
              "[259 rows x 6 columns]"
            ]
          },
          "metadata": {
            "tags": []
          },
          "execution_count": 41
        }
      ]
    },
    {
      "cell_type": "code",
      "metadata": {
        "id": "W7R_0QOv5alV"
      },
      "source": [
        ""
      ],
      "execution_count": null,
      "outputs": []
    }
  ]
}