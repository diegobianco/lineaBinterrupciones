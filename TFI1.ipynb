{
  "nbformat": 4,
  "nbformat_minor": 0,
  "metadata": {
    "colab": {
      "name": "Untitled1.ipynb",
      "provenance": [],
      "authorship_tag": "ABX9TyOhujJrYvG/tfv6DlCh4nnr",
      "include_colab_link": true
    },
    "kernelspec": {
      "name": "python3",
      "display_name": "Python 3"
    }
  },
  "cells": [
    {
      "cell_type": "markdown",
      "metadata": {
        "id": "view-in-github",
        "colab_type": "text"
      },
      "source": [
        "<a href=\"https://colab.research.google.com/github/diegobianco/lineaBinterrupciones/blob/datosubte/TFI1.ipynb\" target=\"_parent\"><img src=\"https://colab.research.google.com/assets/colab-badge.svg\" alt=\"Open In Colab\"/></a>"
      ]
    },
    {
      "cell_type": "code",
      "metadata": {
        "colab": {
          "base_uri": "https://localhost:8080/"
        },
        "id": "L95ogNryptGk",
        "outputId": "1848431e-31d0-4e88-e6a7-c12984cc88fd"
      },
      "source": [
        "# # instalo geopandas\n",
        "!pip install geopandas"
      ],
      "execution_count": 1,
      "outputs": [
        {
          "output_type": "stream",
          "text": [
            "Collecting geopandas\n",
            "\u001b[?25l  Downloading https://files.pythonhosted.org/packages/f7/a4/e66aafbefcbb717813bf3a355c8c4fc3ed04ea1dd7feb2920f2f4f868921/geopandas-0.8.1-py2.py3-none-any.whl (962kB)\n",
            "\r\u001b[K     |▍                               | 10kB 16.4MB/s eta 0:00:01\r\u001b[K     |▊                               | 20kB 22.4MB/s eta 0:00:01\r\u001b[K     |█                               | 30kB 16.4MB/s eta 0:00:01\r\u001b[K     |█▍                              | 40kB 11.8MB/s eta 0:00:01\r\u001b[K     |█▊                              | 51kB 8.3MB/s eta 0:00:01\r\u001b[K     |██                              | 61kB 7.9MB/s eta 0:00:01\r\u001b[K     |██▍                             | 71kB 8.4MB/s eta 0:00:01\r\u001b[K     |██▊                             | 81kB 8.7MB/s eta 0:00:01\r\u001b[K     |███                             | 92kB 9.3MB/s eta 0:00:01\r\u001b[K     |███▍                            | 102kB 9.2MB/s eta 0:00:01\r\u001b[K     |███▊                            | 112kB 9.2MB/s eta 0:00:01\r\u001b[K     |████                            | 122kB 9.2MB/s eta 0:00:01\r\u001b[K     |████▍                           | 133kB 9.2MB/s eta 0:00:01\r\u001b[K     |████▊                           | 143kB 9.2MB/s eta 0:00:01\r\u001b[K     |█████                           | 153kB 9.2MB/s eta 0:00:01\r\u001b[K     |█████▌                          | 163kB 9.2MB/s eta 0:00:01\r\u001b[K     |█████▉                          | 174kB 9.2MB/s eta 0:00:01\r\u001b[K     |██████▏                         | 184kB 9.2MB/s eta 0:00:01\r\u001b[K     |██████▌                         | 194kB 9.2MB/s eta 0:00:01\r\u001b[K     |██████▉                         | 204kB 9.2MB/s eta 0:00:01\r\u001b[K     |███████▏                        | 215kB 9.2MB/s eta 0:00:01\r\u001b[K     |███████▌                        | 225kB 9.2MB/s eta 0:00:01\r\u001b[K     |███████▉                        | 235kB 9.2MB/s eta 0:00:01\r\u001b[K     |████████▏                       | 245kB 9.2MB/s eta 0:00:01\r\u001b[K     |████████▌                       | 256kB 9.2MB/s eta 0:00:01\r\u001b[K     |████████▉                       | 266kB 9.2MB/s eta 0:00:01\r\u001b[K     |█████████▏                      | 276kB 9.2MB/s eta 0:00:01\r\u001b[K     |█████████▌                      | 286kB 9.2MB/s eta 0:00:01\r\u001b[K     |█████████▉                      | 296kB 9.2MB/s eta 0:00:01\r\u001b[K     |██████████▏                     | 307kB 9.2MB/s eta 0:00:01\r\u001b[K     |██████████▌                     | 317kB 9.2MB/s eta 0:00:01\r\u001b[K     |███████████                     | 327kB 9.2MB/s eta 0:00:01\r\u001b[K     |███████████▎                    | 337kB 9.2MB/s eta 0:00:01\r\u001b[K     |███████████▋                    | 348kB 9.2MB/s eta 0:00:01\r\u001b[K     |████████████                    | 358kB 9.2MB/s eta 0:00:01\r\u001b[K     |████████████▎                   | 368kB 9.2MB/s eta 0:00:01\r\u001b[K     |████████████▋                   | 378kB 9.2MB/s eta 0:00:01\r\u001b[K     |█████████████                   | 389kB 9.2MB/s eta 0:00:01\r\u001b[K     |█████████████▎                  | 399kB 9.2MB/s eta 0:00:01\r\u001b[K     |█████████████▋                  | 409kB 9.2MB/s eta 0:00:01\r\u001b[K     |██████████████                  | 419kB 9.2MB/s eta 0:00:01\r\u001b[K     |██████████████▎                 | 430kB 9.2MB/s eta 0:00:01\r\u001b[K     |██████████████▋                 | 440kB 9.2MB/s eta 0:00:01\r\u001b[K     |███████████████                 | 450kB 9.2MB/s eta 0:00:01\r\u001b[K     |███████████████▎                | 460kB 9.2MB/s eta 0:00:01\r\u001b[K     |███████████████▋                | 471kB 9.2MB/s eta 0:00:01\r\u001b[K     |████████████████                | 481kB 9.2MB/s eta 0:00:01\r\u001b[K     |████████████████▍               | 491kB 9.2MB/s eta 0:00:01\r\u001b[K     |████████████████▊               | 501kB 9.2MB/s eta 0:00:01\r\u001b[K     |█████████████████               | 512kB 9.2MB/s eta 0:00:01\r\u001b[K     |█████████████████▍              | 522kB 9.2MB/s eta 0:00:01\r\u001b[K     |█████████████████▊              | 532kB 9.2MB/s eta 0:00:01\r\u001b[K     |██████████████████              | 542kB 9.2MB/s eta 0:00:01\r\u001b[K     |██████████████████▍             | 552kB 9.2MB/s eta 0:00:01\r\u001b[K     |██████████████████▊             | 563kB 9.2MB/s eta 0:00:01\r\u001b[K     |███████████████████             | 573kB 9.2MB/s eta 0:00:01\r\u001b[K     |███████████████████▍            | 583kB 9.2MB/s eta 0:00:01\r\u001b[K     |███████████████████▊            | 593kB 9.2MB/s eta 0:00:01\r\u001b[K     |████████████████████            | 604kB 9.2MB/s eta 0:00:01\r\u001b[K     |████████████████████▍           | 614kB 9.2MB/s eta 0:00:01\r\u001b[K     |████████████████████▊           | 624kB 9.2MB/s eta 0:00:01\r\u001b[K     |█████████████████████           | 634kB 9.2MB/s eta 0:00:01\r\u001b[K     |█████████████████████▍          | 645kB 9.2MB/s eta 0:00:01\r\u001b[K     |█████████████████████▉          | 655kB 9.2MB/s eta 0:00:01\r\u001b[K     |██████████████████████▏         | 665kB 9.2MB/s eta 0:00:01\r\u001b[K     |██████████████████████▌         | 675kB 9.2MB/s eta 0:00:01\r\u001b[K     |██████████████████████▉         | 686kB 9.2MB/s eta 0:00:01\r\u001b[K     |███████████████████████▏        | 696kB 9.2MB/s eta 0:00:01\r\u001b[K     |███████████████████████▌        | 706kB 9.2MB/s eta 0:00:01\r\u001b[K     |███████████████████████▉        | 716kB 9.2MB/s eta 0:00:01\r\u001b[K     |████████████████████████▏       | 727kB 9.2MB/s eta 0:00:01\r\u001b[K     |████████████████████████▌       | 737kB 9.2MB/s eta 0:00:01\r\u001b[K     |████████████████████████▉       | 747kB 9.2MB/s eta 0:00:01\r\u001b[K     |█████████████████████████▏      | 757kB 9.2MB/s eta 0:00:01\r\u001b[K     |█████████████████████████▌      | 768kB 9.2MB/s eta 0:00:01\r\u001b[K     |█████████████████████████▉      | 778kB 9.2MB/s eta 0:00:01\r\u001b[K     |██████████████████████████▏     | 788kB 9.2MB/s eta 0:00:01\r\u001b[K     |██████████████████████████▌     | 798kB 9.2MB/s eta 0:00:01\r\u001b[K     |██████████████████████████▉     | 808kB 9.2MB/s eta 0:00:01\r\u001b[K     |███████████████████████████▎    | 819kB 9.2MB/s eta 0:00:01\r\u001b[K     |███████████████████████████▋    | 829kB 9.2MB/s eta 0:00:01\r\u001b[K     |████████████████████████████    | 839kB 9.2MB/s eta 0:00:01\r\u001b[K     |████████████████████████████▎   | 849kB 9.2MB/s eta 0:00:01\r\u001b[K     |████████████████████████████▋   | 860kB 9.2MB/s eta 0:00:01\r\u001b[K     |█████████████████████████████   | 870kB 9.2MB/s eta 0:00:01\r\u001b[K     |█████████████████████████████▎  | 880kB 9.2MB/s eta 0:00:01\r\u001b[K     |█████████████████████████████▋  | 890kB 9.2MB/s eta 0:00:01\r\u001b[K     |██████████████████████████████  | 901kB 9.2MB/s eta 0:00:01\r\u001b[K     |██████████████████████████████▎ | 911kB 9.2MB/s eta 0:00:01\r\u001b[K     |██████████████████████████████▋ | 921kB 9.2MB/s eta 0:00:01\r\u001b[K     |███████████████████████████████ | 931kB 9.2MB/s eta 0:00:01\r\u001b[K     |███████████████████████████████▎| 942kB 9.2MB/s eta 0:00:01\r\u001b[K     |███████████████████████████████▋| 952kB 9.2MB/s eta 0:00:01\r\u001b[K     |████████████████████████████████| 962kB 9.2MB/s eta 0:00:01\r\u001b[K     |████████████████████████████████| 972kB 9.2MB/s \n",
            "\u001b[?25hRequirement already satisfied: pandas>=0.23.0 in /usr/local/lib/python3.6/dist-packages (from geopandas) (1.1.4)\n",
            "Collecting pyproj>=2.2.0\n",
            "\u001b[?25l  Downloading https://files.pythonhosted.org/packages/e4/ab/280e80a67cfc109d15428c0ec56391fc03a65857b7727cf4e6e6f99a4204/pyproj-3.0.0.post1-cp36-cp36m-manylinux2010_x86_64.whl (6.4MB)\n",
            "\u001b[K     |████████████████████████████████| 6.5MB 22.2MB/s \n",
            "\u001b[?25hCollecting fiona\n",
            "\u001b[?25l  Downloading https://files.pythonhosted.org/packages/37/94/4910fd55246c1d963727b03885ead6ef1cd3748a465f7b0239ab25dfc9a3/Fiona-1.8.18-cp36-cp36m-manylinux1_x86_64.whl (14.8MB)\n",
            "\u001b[K     |████████████████████████████████| 14.8MB 21.1MB/s \n",
            "\u001b[?25hRequirement already satisfied: shapely in /usr/local/lib/python3.6/dist-packages (from geopandas) (1.7.1)\n",
            "Requirement already satisfied: python-dateutil>=2.7.3 in /usr/local/lib/python3.6/dist-packages (from pandas>=0.23.0->geopandas) (2.8.1)\n",
            "Requirement already satisfied: pytz>=2017.2 in /usr/local/lib/python3.6/dist-packages (from pandas>=0.23.0->geopandas) (2018.9)\n",
            "Requirement already satisfied: numpy>=1.15.4 in /usr/local/lib/python3.6/dist-packages (from pandas>=0.23.0->geopandas) (1.18.5)\n",
            "Requirement already satisfied: certifi in /usr/local/lib/python3.6/dist-packages (from pyproj>=2.2.0->geopandas) (2020.11.8)\n",
            "Collecting munch\n",
            "  Downloading https://files.pythonhosted.org/packages/cc/ab/85d8da5c9a45e072301beb37ad7f833cd344e04c817d97e0cc75681d248f/munch-2.5.0-py2.py3-none-any.whl\n",
            "Requirement already satisfied: six>=1.7 in /usr/local/lib/python3.6/dist-packages (from fiona->geopandas) (1.15.0)\n",
            "Collecting cligj>=0.5\n",
            "  Downloading https://files.pythonhosted.org/packages/42/1e/947eadf10d6804bf276eb8a038bd5307996dceaaa41cfd21b7a15ec62f5d/cligj-0.7.1-py3-none-any.whl\n",
            "Requirement already satisfied: click<8,>=4.0 in /usr/local/lib/python3.6/dist-packages (from fiona->geopandas) (7.1.2)\n",
            "Collecting click-plugins>=1.0\n",
            "  Downloading https://files.pythonhosted.org/packages/e9/da/824b92d9942f4e472702488857914bdd50f73021efea15b4cad9aca8ecef/click_plugins-1.1.1-py2.py3-none-any.whl\n",
            "Requirement already satisfied: attrs>=17 in /usr/local/lib/python3.6/dist-packages (from fiona->geopandas) (20.3.0)\n",
            "Installing collected packages: pyproj, munch, cligj, click-plugins, fiona, geopandas\n",
            "Successfully installed click-plugins-1.1.1 cligj-0.7.1 fiona-1.8.18 geopandas-0.8.1 munch-2.5.0 pyproj-3.0.0.post1\n"
          ],
          "name": "stdout"
        }
      ]
    },
    {
      "cell_type": "code",
      "metadata": {
        "id": "uhS_njgvpyKE"
      },
      "source": [
        "import pandas as pd\n",
        "import geopandas as gpd\n",
        "import seaborn as sns\n",
        "import matplotlib.pyplot as plt"
      ],
      "execution_count": 2,
      "outputs": []
    },
    {
      "cell_type": "code",
      "metadata": {
        "colab": {
          "base_uri": "https://localhost:8080/"
        },
        "id": "AFfWfbDOp0st",
        "outputId": "ce2464b3-cc8f-467b-8393-536b30c36b1b"
      },
      "source": [
        "!git clone https://github.com/diegobianco/lineaBinterrupciones.git"
      ],
      "execution_count": 3,
      "outputs": [
        {
          "output_type": "stream",
          "text": [
            "Cloning into 'lineaBinterrupciones'...\n",
            "remote: Enumerating objects: 12, done.\u001b[K\n",
            "remote: Counting objects: 100% (12/12), done.\u001b[K\n",
            "remote: Compressing objects: 100% (12/12), done.\u001b[K\n",
            "remote: Total 12 (delta 2), reused 0 (delta 0), pack-reused 0\u001b[K\n",
            "Unpacking objects: 100% (12/12), done.\n"
          ],
          "name": "stdout"
        }
      ]
    },
    {
      "cell_type": "code",
      "metadata": {
        "colab": {
          "base_uri": "https://localhost:8080/"
        },
        "id": "6s01J7Wxqcyh",
        "outputId": "319bd32a-c80f-41be-ff00-92a3a10a7a66"
      },
      "source": [
        "!ls lineaBinterrupciones"
      ],
      "execution_count": 9,
      "outputs": [
        {
          "output_type": "stream",
          "text": [
            "B_2019.csv  B_2019.xls\tLICENSE  README.md\n"
          ],
          "name": "stdout"
        }
      ]
    },
    {
      "cell_type": "code",
      "metadata": {
        "id": "_lwT5tFRp0d9"
      },
      "source": [
        "incidentes = pd.read_csv('lineaBinterrupciones/B_2019.csv', dtype={'Radio':'str'})"
      ],
      "execution_count": 10,
      "outputs": []
    },
    {
      "cell_type": "code",
      "metadata": {
        "colab": {
          "base_uri": "https://localhost:8080/",
          "height": 204
        },
        "id": "MJCASo50p4du",
        "outputId": "6cb40aba-8987-488d-eadd-d7c8d62bdb37"
      },
      "source": [
        "incidentes.head()"
      ],
      "execution_count": 11,
      "outputs": [
        {
          "output_type": "execute_result",
          "data": {
            "text/html": [
              "<div>\n",
              "<style scoped>\n",
              "    .dataframe tbody tr th:only-of-type {\n",
              "        vertical-align: middle;\n",
              "    }\n",
              "\n",
              "    .dataframe tbody tr th {\n",
              "        vertical-align: top;\n",
              "    }\n",
              "\n",
              "    .dataframe thead th {\n",
              "        text-align: right;\n",
              "    }\n",
              "</style>\n",
              "<table border=\"1\" class=\"dataframe\">\n",
              "  <thead>\n",
              "    <tr style=\"text-align: right;\">\n",
              "      <th></th>\n",
              "      <th>FECHAyHORA</th>\n",
              "      <th>FECHA</th>\n",
              "      <th>HORA</th>\n",
              "      <th>LINEA</th>\n",
              "      <th>MOTIVO</th>\n",
              "      <th>DURACION_(MINUTOS)</th>\n",
              "    </tr>\n",
              "  </thead>\n",
              "  <tbody>\n",
              "    <tr>\n",
              "      <th>0</th>\n",
              "      <td>31/12/2019 20:12</td>\n",
              "      <td>31/12/2019</td>\n",
              "      <td>20:12:05</td>\n",
              "      <td>B</td>\n",
              "      <td>Servicio con demora debido a una causa tEcnica.</td>\n",
              "      <td>5</td>\n",
              "    </tr>\n",
              "    <tr>\n",
              "      <th>1</th>\n",
              "      <td>27/12/2019 21:32</td>\n",
              "      <td>27/12/2019</td>\n",
              "      <td>21:32:08</td>\n",
              "      <td>B</td>\n",
              "      <td>Servicio con demora</td>\n",
              "      <td>5</td>\n",
              "    </tr>\n",
              "    <tr>\n",
              "      <th>2</th>\n",
              "      <td>27/12/2019 21:14</td>\n",
              "      <td>27/12/2019</td>\n",
              "      <td>21:14:08</td>\n",
              "      <td>B</td>\n",
              "      <td>Servicio limitado entre las estaciones Leandro...</td>\n",
              "      <td>13</td>\n",
              "    </tr>\n",
              "    <tr>\n",
              "      <th>3</th>\n",
              "      <td>27/12/2019 00:42</td>\n",
              "      <td>27/12/2019</td>\n",
              "      <td>00:42:08</td>\n",
              "      <td>B</td>\n",
              "      <td>Servicio con demora debido a una causa tEcnica.</td>\n",
              "      <td>53</td>\n",
              "    </tr>\n",
              "    <tr>\n",
              "      <th>4</th>\n",
              "      <td>23/12/2019 22:30</td>\n",
              "      <td>23/12/2019</td>\n",
              "      <td>22:30:14</td>\n",
              "      <td>B</td>\n",
              "      <td>Servicio con demora por una formacion detenida...</td>\n",
              "      <td>27</td>\n",
              "    </tr>\n",
              "  </tbody>\n",
              "</table>\n",
              "</div>"
            ],
            "text/plain": [
              "         FECHAyHORA  ... DURACION_(MINUTOS)\n",
              "0  31/12/2019 20:12  ...                  5\n",
              "1  27/12/2019 21:32  ...                  5\n",
              "2  27/12/2019 21:14  ...                 13\n",
              "3  27/12/2019 00:42  ...                 53\n",
              "4  23/12/2019 22:30  ...                 27\n",
              "\n",
              "[5 rows x 6 columns]"
            ]
          },
          "metadata": {
            "tags": []
          },
          "execution_count": 11
        }
      ]
    }
  ]
}